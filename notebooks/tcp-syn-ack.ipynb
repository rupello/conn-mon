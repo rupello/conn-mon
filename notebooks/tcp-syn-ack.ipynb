{
 "cells": [
  {
   "cell_type": "code",
   "execution_count": 16,
   "metadata": {},
   "outputs": [],
   "source": [
    "import subprocess\n",
    "import json"
   ]
  },
  {
   "cell_type": "code",
   "execution_count": 3,
   "metadata": {},
   "outputs": [
    {
     "name": "stdout",
     "output_type": "stream",
     "text": [
      "Capturing on 'enp1s0'\n",
      "^C\n",
      "0 packets captured\n"
     ]
    }
   ],
   "source": [
    "!tshark -T ek -Y \"tcp.flags.syn==1 and tcp.flags.ack==0\""
   ]
  },
  {
   "cell_type": "code",
   "execution_count": 5,
   "metadata": {},
   "outputs": [
    {
     "name": "stdout",
     "output_type": "stream",
     "text": [
      "mkfifo: cannot create fifo '/tmp/test': File exists\r\n"
     ]
    }
   ],
   "source": [
    "!mkfifo /tmp/test"
   ]
  },
  {
   "cell_type": "code",
   "execution_count": 38,
   "metadata": {},
   "outputs": [
    {
     "name": "stdout",
     "output_type": "stream",
     "text": [
      "Destination GeoIP: Boardman, OR, United States, AS16509 Amazon.com, Inc., 45.778801, -119.528999\n",
      "Destination GeoIP: Mountain View, CA, United States, AS15169 Google Inc., 37.419201, -122.057404\n",
      "Destination GeoIP: Mountain View, CA, United States, AS15169 Google Inc., 37.419201, -122.057404\n",
      "Destination GeoIP: Mountain View, CA, United States, AS15169 Google Inc., 37.419201, -122.057404\n",
      "Destination GeoIP: Mountain View, CA, United States, AS36040 Google Inc., 37.419201, -122.057404\n",
      "Destination GeoIP: Mountain View, CA, United States, AS15169 Google Inc., 37.419201, -122.057404\n",
      "Destination GeoIP: Tadworth, N7, United Kingdom, AS2818 BBC, 51.283298, -0.233400\n",
      "Destination GeoIP: Manchester, NH, United States, AS54113 Fastly, 42.988499, -71.465202\n",
      "Destination GeoIP: Tadworth, N7, United Kingdom, AS2818 BBC, 51.283298, -0.233400\n",
      "Destination GeoIP: Cambridge, MA, United States, AS16625 Akamai Technologies, Inc., 42.362598, -71.084297\n",
      "Destination GeoIP: Cambridge, MA, United States, AS16625 Akamai Technologies, Inc., 42.362598, -71.084297\n",
      "Destination GeoIP: United Kingdom, AS13037 Zen Internet Ltd, 51.500000, -0.130000\n"
     ]
    }
   ],
   "source": [
    "proc = subprocess.Popen(['tshark', '-T', 'ek', '-Y', 'tcp.flags.syn==1 and tcp.flags.ack==0'],\n",
    "                       stdout=subprocess.PIPE, stderr=subprocess.PIPE, shell=False)\n",
    "packets = []\n",
    "while proc.poll() is None:\n",
    "    try:\n",
    "        packets.append(json.loads(proc.stdout.readline()))\n",
    "        print(packets[-1]['layers']['ip'][u'ip_text'])\n",
    "    except:\n",
    "        pass\n"
   ]
  },
  {
   "cell_type": "code",
   "execution_count": 29,
   "metadata": {},
   "outputs": [
    {
     "data": {
      "text/plain": [
       "u'Destination GeoIP: Boardman, OR, United States, AS16509 Amazon.com, Inc., 45.778801, -119.528999'"
      ]
     },
     "execution_count": 29,
     "metadata": {},
     "output_type": "execute_result"
    }
   ],
   "source": [
    "packets[1]['layers']['ip'][u'ip_text']"
   ]
  },
  {
   "cell_type": "code",
   "execution_count": null,
   "metadata": {},
   "outputs": [],
   "source": [
    "proc.wait()"
   ]
  },
  {
   "cell_type": "code",
   "execution_count": 15,
   "metadata": {},
   "outputs": [],
   "source": [
    "subprocess.Popen?"
   ]
  },
  {
   "cell_type": "code",
   "execution_count": 14,
   "metadata": {},
   "outputs": [],
   "source": [
    "proc.poll?"
   ]
  },
  {
   "cell_type": "code",
   "execution_count": null,
   "metadata": {},
   "outputs": [],
   "source": []
  }
 ],
 "metadata": {
  "kernelspec": {
   "display_name": "Python 2",
   "language": "python",
   "name": "python2"
  },
  "language_info": {
   "codemirror_mode": {
    "name": "ipython",
    "version": 2
   },
   "file_extension": ".py",
   "mimetype": "text/x-python",
   "name": "python",
   "nbconvert_exporter": "python",
   "pygments_lexer": "ipython2",
   "version": "2.7.12"
  }
 },
 "nbformat": 4,
 "nbformat_minor": 2
}
