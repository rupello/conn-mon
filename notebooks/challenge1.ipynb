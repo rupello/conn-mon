{
 "cells": [
  {
   "cell_type": "markdown",
   "metadata": {},
   "source": [
    "### Description\n",
    "\n",
    "1. Export an IP-based pcap tp json with the following fields\n",
    "    * srcip\n",
    "    * srcport\n",
    "    * dstip\n",
    "    * dstport\n",
    "    * tcpflags:\n",
    "        * syn\n",
    "        * ack\n",
    "        * reset\n",
    "    * tcpoptions\n",
    "    * tcplen\n",
    "    * syn\n",
    "    \n",
    "2. Load into pandas dataframe\n",
    "3. Plot on paralled coordinates\n",
    "4. Create a directed graph\n",
    "\n",
    "\n",
    "\n"
   ]
  },
  {
   "cell_type": "code",
   "execution_count": null,
   "metadata": {},
   "outputs": [],
   "source": []
  }
 ],
 "metadata": {
  "kernelspec": {
   "display_name": "connmon",
   "language": "python",
   "name": "connmon"
  },
  "language_info": {
   "codemirror_mode": {
    "name": "ipython",
    "version": 2
   },
   "file_extension": ".py",
   "mimetype": "text/x-python",
   "name": "python",
   "nbconvert_exporter": "python",
   "pygments_lexer": "ipython2",
   "version": "2.7.12"
  }
 },
 "nbformat": 4,
 "nbformat_minor": 2
}
